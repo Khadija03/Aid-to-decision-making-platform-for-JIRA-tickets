{
 "cells": [
  {
   "cell_type": "code",
   "execution_count": 2,
   "metadata": {},
   "outputs": [],
   "source": [
    "from jira.client import JIRA\n",
    "from requests_toolbelt import user_agent"
   ]
  },
  {
   "cell_type": "code",
   "execution_count": 3,
   "metadata": {},
   "outputs": [],
   "source": [
    "options = {'server': \"https://hibernate.atlassian.net/\"}\n",
    "jira = JIRA(options, basic_auth=(\"bahriahmed94@gmail.com\", \"slHGJreyEZ1GCec8ZKbtEC6E\"))"
   ]
  },
  {
   "cell_type": "code",
   "execution_count": 4,
   "metadata": {},
   "outputs": [],
   "source": [
    "def productivity_jira(project,jira):\n",
    "    data=[]\n",
    "    #data=[{}]\n",
    "    last_ticket=\"\"\n",
    "    persons=[]\n",
    "    i=0\n",
    "    test=False\n",
    "    size = 100\n",
    "    initial = 0\n",
    "    while True:\n",
    "        start= initial*size\n",
    "        issues = jira.search_issues('project={}'.format(project), start,size)\n",
    "        if len(issues) == 0:\n",
    "            break\n",
    "        initial += 1\n",
    "\n",
    "        if(not test):\n",
    "            last_ticket=issues[0].key.split(\"-\")[1]\n",
    "            test=True\n",
    "        \n",
    "        for issue in issues:\n",
    "            for j in range(len(issue.fields.customfield_10050)):\n",
    "                if(issue.fields.customfield_10050[j].displayName not in persons):  \n",
    "                    data.append({\"name\":\"\",\"closed tickets\":0,\"all tickets\":0,\"remain_tickets\":0,\"in progress\":0,\"tickets with issues\":0})\n",
    "                    persons.append(issue.fields.customfield_10050[j].displayName)\n",
    "                    data[i][\"name\"]=issue.fields.customfield_10050[j].displayName\n",
    "   \n",
    "                    i+=1\n",
    "\n",
    "                \n",
    "        for issue in issues:\n",
    "            for e in data :\n",
    "                for j in range(len(issue.fields.customfield_10050)):\n",
    "                    if(issue.fields.customfield_10050[j].displayName==e[\"name\"]):\n",
    "                        e[\"all tickets\"]+=1\n",
    "                        if(issue.fields.status.name=='Closed' or issue.fields.status.name=='Resolved') :\n",
    "                            e[\"closed tickets\"]+=1\n",
    "                        elif(issue.fields.status.name=='Open') :\n",
    "                            e[\"in progress\"]+=1\n",
    "                        #elif(eli andhom mochkla fel resolution)\n",
    "                            #e[\"tickets with issues\"]+=1\n",
    "                    e[\"remain tickets\"]=e[\"all tickets\"]-e[\"closed tickets\"] #neksa tickets with issues\n",
    "        \n",
    "    return data,last_ticket"
   ]
  }
 ],
 "metadata": {
  "interpreter": {
   "hash": "16d5d8e9511b4a1f70ac14e2fd6fdd3dfeaec2e7924ea268b32083e775082e72"
  },
  "kernelspec": {
   "display_name": "Python 3.9.9 ('env': venv)",
   "language": "python",
   "name": "python3"
  },
  "language_info": {
   "codemirror_mode": {
    "name": "ipython",
    "version": 3
   },
   "file_extension": ".py",
   "mimetype": "text/x-python",
   "name": "python",
   "nbconvert_exporter": "python",
   "pygments_lexer": "ipython3",
   "version": "3.9.9"
  },
  "orig_nbformat": 4
 },
 "nbformat": 4,
 "nbformat_minor": 2
}
